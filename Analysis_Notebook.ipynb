{
 "cells": [
  {
   "cell_type": "markdown",
   "metadata": {},
   "source": [
    "#### Importing Libraries Used in Analysis"
   ]
  },
  {
   "cell_type": "code",
   "execution_count": 72,
   "metadata": {},
   "outputs": [],
   "source": [
    "import pandas as pd\n",
    "import matplotlib.pyplot as plt\n",
    "import seaborn as sns\n",
    "import string\n",
    "from nltk.stem import WordNetLemmatizer\n",
    "from nltk.tokenize import word_tokenize\n",
    "from sklearn.model_selection import train_test_split\n",
    "from sklearn.feature_extraction.text import TfidfVectorizer\n",
    "from sklearn.linear_model import LogisticRegression\n",
    "from sklearn import naive_bayes\n",
    "from sklearn.tree import DecisionTreeClassifier\n",
    "from sklearn.ensemble import RandomForestClassifier\n",
    "from sklearn.svm import LinearSVC\n",
    "from sklearn.ensemble import AdaBoostClassifier\n",
    "from sklearn.linear_model import PassiveAggressiveClassifier\n",
    "from sklearn.ensemble import GradientBoostingClassifier\n",
    "from sklearn.metrics import accuracy_score,f1_score,confusion_matrix\n",
    "from sklearn.metrics import classification_report\n",
    "import pickle\n",
    "sns.set(rc={'figure.figsize':(24,10)})"
   ]
  },
  {
   "cell_type": "markdown",
   "metadata": {},
   "source": [
    "#### Reading The Dataset"
   ]
  },
  {
   "cell_type": "code",
   "execution_count": 2,
   "metadata": {},
   "outputs": [
    {
     "data": {
      "text/html": [
       "<div>\n",
       "<style scoped>\n",
       "    .dataframe tbody tr th:only-of-type {\n",
       "        vertical-align: middle;\n",
       "    }\n",
       "\n",
       "    .dataframe tbody tr th {\n",
       "        vertical-align: top;\n",
       "    }\n",
       "\n",
       "    .dataframe thead th {\n",
       "        text-align: right;\n",
       "    }\n",
       "</style>\n",
       "<table border=\"1\" class=\"dataframe\">\n",
       "  <thead>\n",
       "    <tr style=\"text-align: right;\">\n",
       "      <th></th>\n",
       "      <th>Unnamed: 0</th>\n",
       "      <th>website_url</th>\n",
       "      <th>cleaned_website_text</th>\n",
       "      <th>Category</th>\n",
       "    </tr>\n",
       "  </thead>\n",
       "  <tbody>\n",
       "    <tr>\n",
       "      <th>0</th>\n",
       "      <td>0</td>\n",
       "      <td>https://www.booking.com/index.html?aid=1743217</td>\n",
       "      <td>official site good hotel accommodation big sav...</td>\n",
       "      <td>Travel</td>\n",
       "    </tr>\n",
       "    <tr>\n",
       "      <th>1</th>\n",
       "      <td>1</td>\n",
       "      <td>https://travelsites.com/expedia/</td>\n",
       "      <td>expedia hotel book sites like use vacation wor...</td>\n",
       "      <td>Travel</td>\n",
       "    </tr>\n",
       "    <tr>\n",
       "      <th>2</th>\n",
       "      <td>2</td>\n",
       "      <td>https://travelsites.com/tripadvisor/</td>\n",
       "      <td>tripadvisor hotel book sites like previously d...</td>\n",
       "      <td>Travel</td>\n",
       "    </tr>\n",
       "    <tr>\n",
       "      <th>3</th>\n",
       "      <td>3</td>\n",
       "      <td>https://www.momondo.in/?ispredir=true</td>\n",
       "      <td>cheap flights search compare flights momondo f...</td>\n",
       "      <td>Travel</td>\n",
       "    </tr>\n",
       "    <tr>\n",
       "      <th>4</th>\n",
       "      <td>4</td>\n",
       "      <td>https://www.ebookers.com/?AFFCID=EBOOKERS-UK.n...</td>\n",
       "      <td>bot create free account create free account si...</td>\n",
       "      <td>Travel</td>\n",
       "    </tr>\n",
       "    <tr>\n",
       "      <th>5</th>\n",
       "      <td>5</td>\n",
       "      <td>https://book.priceline.com/?refid=8431&amp;refclic...</td>\n",
       "      <td>hotel reservations bundle save book flight sal...</td>\n",
       "      <td>Travel</td>\n",
       "    </tr>\n",
       "    <tr>\n",
       "      <th>6</th>\n",
       "      <td>6</td>\n",
       "      <td>https://www.trip.com/index?locale=en_us&amp;allian...</td>\n",
       "      <td>official travel deals promotion choose million...</td>\n",
       "      <td>Travel</td>\n",
       "    </tr>\n",
       "    <tr>\n",
       "      <th>7</th>\n",
       "      <td>7</td>\n",
       "      <td>https://www.orbitz.com/</td>\n",
       "      <td>bot create free account create free account si...</td>\n",
       "      <td>Travel</td>\n",
       "    </tr>\n",
       "    <tr>\n",
       "      <th>8</th>\n",
       "      <td>8</td>\n",
       "      <td>https://www.travelocity.com/</td>\n",
       "      <td>bot create free account create free account si...</td>\n",
       "      <td>Travel</td>\n",
       "    </tr>\n",
       "    <tr>\n",
       "      <th>9</th>\n",
       "      <td>9</td>\n",
       "      <td>https://www.hotwire.com/</td>\n",
       "      <td>cheap hotels cars flights minute travel deals ...</td>\n",
       "      <td>Travel</td>\n",
       "    </tr>\n",
       "  </tbody>\n",
       "</table>\n",
       "</div>"
      ],
      "text/plain": [
       "   Unnamed: 0                                        website_url  \\\n",
       "0           0     https://www.booking.com/index.html?aid=1743217   \n",
       "1           1                   https://travelsites.com/expedia/   \n",
       "2           2               https://travelsites.com/tripadvisor/   \n",
       "3           3              https://www.momondo.in/?ispredir=true   \n",
       "4           4  https://www.ebookers.com/?AFFCID=EBOOKERS-UK.n...   \n",
       "5           5  https://book.priceline.com/?refid=8431&refclic...   \n",
       "6           6  https://www.trip.com/index?locale=en_us&allian...   \n",
       "7           7                            https://www.orbitz.com/   \n",
       "8           8                       https://www.travelocity.com/   \n",
       "9           9                           https://www.hotwire.com/   \n",
       "\n",
       "                                cleaned_website_text Category  \n",
       "0  official site good hotel accommodation big sav...   Travel  \n",
       "1  expedia hotel book sites like use vacation wor...   Travel  \n",
       "2  tripadvisor hotel book sites like previously d...   Travel  \n",
       "3  cheap flights search compare flights momondo f...   Travel  \n",
       "4  bot create free account create free account si...   Travel  \n",
       "5  hotel reservations bundle save book flight sal...   Travel  \n",
       "6  official travel deals promotion choose million...   Travel  \n",
       "7  bot create free account create free account si...   Travel  \n",
       "8  bot create free account create free account si...   Travel  \n",
       "9  cheap hotels cars flights minute travel deals ...   Travel  "
      ]
     },
     "execution_count": 2,
     "metadata": {},
     "output_type": "execute_result"
    }
   ],
   "source": [
    "data=pd.read_csv('website_classification.csv')\n",
    "data.head(10)"
   ]
  },
  {
   "cell_type": "markdown",
   "metadata": {},
   "source": [
    "#### Droping the Un-Named Column"
   ]
  },
  {
   "cell_type": "code",
   "execution_count": 3,
   "metadata": {},
   "outputs": [],
   "source": [
    "data=data.iloc[: , 1:]"
   ]
  },
  {
   "cell_type": "code",
   "execution_count": 4,
   "metadata": {},
   "outputs": [
    {
     "data": {
      "text/html": [
       "<div>\n",
       "<style scoped>\n",
       "    .dataframe tbody tr th:only-of-type {\n",
       "        vertical-align: middle;\n",
       "    }\n",
       "\n",
       "    .dataframe tbody tr th {\n",
       "        vertical-align: top;\n",
       "    }\n",
       "\n",
       "    .dataframe thead th {\n",
       "        text-align: right;\n",
       "    }\n",
       "</style>\n",
       "<table border=\"1\" class=\"dataframe\">\n",
       "  <thead>\n",
       "    <tr style=\"text-align: right;\">\n",
       "      <th></th>\n",
       "      <th>website_url</th>\n",
       "      <th>cleaned_website_text</th>\n",
       "      <th>Category</th>\n",
       "    </tr>\n",
       "  </thead>\n",
       "  <tbody>\n",
       "    <tr>\n",
       "      <th>0</th>\n",
       "      <td>https://www.booking.com/index.html?aid=1743217</td>\n",
       "      <td>official site good hotel accommodation big sav...</td>\n",
       "      <td>Travel</td>\n",
       "    </tr>\n",
       "    <tr>\n",
       "      <th>1</th>\n",
       "      <td>https://travelsites.com/expedia/</td>\n",
       "      <td>expedia hotel book sites like use vacation wor...</td>\n",
       "      <td>Travel</td>\n",
       "    </tr>\n",
       "    <tr>\n",
       "      <th>2</th>\n",
       "      <td>https://travelsites.com/tripadvisor/</td>\n",
       "      <td>tripadvisor hotel book sites like previously d...</td>\n",
       "      <td>Travel</td>\n",
       "    </tr>\n",
       "    <tr>\n",
       "      <th>3</th>\n",
       "      <td>https://www.momondo.in/?ispredir=true</td>\n",
       "      <td>cheap flights search compare flights momondo f...</td>\n",
       "      <td>Travel</td>\n",
       "    </tr>\n",
       "    <tr>\n",
       "      <th>4</th>\n",
       "      <td>https://www.ebookers.com/?AFFCID=EBOOKERS-UK.n...</td>\n",
       "      <td>bot create free account create free account si...</td>\n",
       "      <td>Travel</td>\n",
       "    </tr>\n",
       "    <tr>\n",
       "      <th>5</th>\n",
       "      <td>https://book.priceline.com/?refid=8431&amp;refclic...</td>\n",
       "      <td>hotel reservations bundle save book flight sal...</td>\n",
       "      <td>Travel</td>\n",
       "    </tr>\n",
       "    <tr>\n",
       "      <th>6</th>\n",
       "      <td>https://www.trip.com/index?locale=en_us&amp;allian...</td>\n",
       "      <td>official travel deals promotion choose million...</td>\n",
       "      <td>Travel</td>\n",
       "    </tr>\n",
       "    <tr>\n",
       "      <th>7</th>\n",
       "      <td>https://www.orbitz.com/</td>\n",
       "      <td>bot create free account create free account si...</td>\n",
       "      <td>Travel</td>\n",
       "    </tr>\n",
       "    <tr>\n",
       "      <th>8</th>\n",
       "      <td>https://www.travelocity.com/</td>\n",
       "      <td>bot create free account create free account si...</td>\n",
       "      <td>Travel</td>\n",
       "    </tr>\n",
       "    <tr>\n",
       "      <th>9</th>\n",
       "      <td>https://www.hotwire.com/</td>\n",
       "      <td>cheap hotels cars flights minute travel deals ...</td>\n",
       "      <td>Travel</td>\n",
       "    </tr>\n",
       "  </tbody>\n",
       "</table>\n",
       "</div>"
      ],
      "text/plain": [
       "                                         website_url  \\\n",
       "0     https://www.booking.com/index.html?aid=1743217   \n",
       "1                   https://travelsites.com/expedia/   \n",
       "2               https://travelsites.com/tripadvisor/   \n",
       "3              https://www.momondo.in/?ispredir=true   \n",
       "4  https://www.ebookers.com/?AFFCID=EBOOKERS-UK.n...   \n",
       "5  https://book.priceline.com/?refid=8431&refclic...   \n",
       "6  https://www.trip.com/index?locale=en_us&allian...   \n",
       "7                            https://www.orbitz.com/   \n",
       "8                       https://www.travelocity.com/   \n",
       "9                           https://www.hotwire.com/   \n",
       "\n",
       "                                cleaned_website_text Category  \n",
       "0  official site good hotel accommodation big sav...   Travel  \n",
       "1  expedia hotel book sites like use vacation wor...   Travel  \n",
       "2  tripadvisor hotel book sites like previously d...   Travel  \n",
       "3  cheap flights search compare flights momondo f...   Travel  \n",
       "4  bot create free account create free account si...   Travel  \n",
       "5  hotel reservations bundle save book flight sal...   Travel  \n",
       "6  official travel deals promotion choose million...   Travel  \n",
       "7  bot create free account create free account si...   Travel  \n",
       "8  bot create free account create free account si...   Travel  \n",
       "9  cheap hotels cars flights minute travel deals ...   Travel  "
      ]
     },
     "execution_count": 4,
     "metadata": {},
     "output_type": "execute_result"
    }
   ],
   "source": [
    "data.head(10)"
   ]
  },
  {
   "cell_type": "markdown",
   "metadata": {},
   "source": [
    "#### Data Properties"
   ]
  },
  {
   "cell_type": "code",
   "execution_count": 5,
   "metadata": {},
   "outputs": [
    {
     "name": "stdout",
     "output_type": "stream",
     "text": [
      "(1408, 3)\n"
     ]
    }
   ],
   "source": [
    "print(data.shape)"
   ]
  },
  {
   "cell_type": "code",
   "execution_count": 6,
   "metadata": {},
   "outputs": [
    {
     "name": "stdout",
     "output_type": "stream",
     "text": [
      "website_url             object\n",
      "cleaned_website_text    object\n",
      "Category                object\n",
      "dtype: object\n"
     ]
    }
   ],
   "source": [
    "print(data.dtypes)"
   ]
  },
  {
   "cell_type": "markdown",
   "metadata": {},
   "source": [
    "#### Finding Unique Values in the Target"
   ]
  },
  {
   "cell_type": "code",
   "execution_count": 7,
   "metadata": {},
   "outputs": [
    {
     "name": "stdout",
     "output_type": "stream",
     "text": [
      "16\n"
     ]
    }
   ],
   "source": [
    "print(data['Category'].nunique())"
   ]
  },
  {
   "cell_type": "code",
   "execution_count": 8,
   "metadata": {},
   "outputs": [
    {
     "name": "stdout",
     "output_type": "stream",
     "text": [
      "['Travel' 'Social Networking and Messaging' 'News' 'Streaming Services'\n",
      " 'Sports' 'Photography' 'Law and Government' 'Health and Fitness' 'Games'\n",
      " 'E-Commerce' 'Forums' 'Food' 'Education' 'Computers and Technology'\n",
      " 'Business/Corporate' 'Adult']\n"
     ]
    }
   ],
   "source": [
    "print(data['Category'].unique())"
   ]
  },
  {
   "cell_type": "code",
   "execution_count": 9,
   "metadata": {},
   "outputs": [
    {
     "name": "stdout",
     "output_type": "stream",
     "text": [
      "{'Travel': 107, 'Social Networking and Messaging': 83, 'News': 96, 'Streaming Services': 105, 'Sports': 104, 'Photography': 93, 'Law and Government': 84, 'Health and Fitness': 96, 'Games': 98, 'E-Commerce': 102, 'Forums': 16, 'Food': 92, 'Education': 114, 'Computers and Technology': 93, 'Business/Corporate': 109, 'Adult': 16}\n"
     ]
    }
   ],
   "source": [
    "dic={'Travel':0, 'Social Networking and Messaging':0, 'News':0, 'Streaming Services':0,'Sports':0, 'Photography':0, 'Law and Government':0, 'Health and Fitness':0, 'Games':0,\n",
    " 'E-Commerce':0, 'Forums':0, 'Food':0, 'Education':0, 'Computers and Technology':0,\n",
    " 'Business/Corporate':0, 'Adult':0}\n",
    "for i in data['Category']:\n",
    "    dic[i]=dic[i]+1\n",
    "print(dic)"
   ]
  },
  {
   "cell_type": "code",
   "execution_count": 10,
   "metadata": {},
   "outputs": [
    {
     "data": {
      "text/plain": [
       "<matplotlib.axes._subplots.AxesSubplot at 0x140e4d72208>"
      ]
     },
     "execution_count": 10,
     "metadata": {},
     "output_type": "execute_result"
    },
    {
     "data": {
      "image/png": "[encoded data removed]",
      "text/plain": [
       "<Figure size 1728x720 with 1 Axes>"
      ]
     },
     "metadata": {},
     "output_type": "display_data"
    }
   ],
   "source": [
    "key=list(dic.keys())\n",
    "values=list(dic.values())\n",
    "sns.barplot(key,values)"
   ]
  },
  {
   "cell_type": "code",
   "execution_count": 11,
   "metadata": {},
   "outputs": [
    {
     "data": {
      "text/plain": [
       "([<matplotlib.patches.Wedge at 0x140eab067c8>,\n",
       "  <matplotlib.patches.Wedge at 0x140eab06e48>,\n",
       "  <matplotlib.patches.Wedge at 0x140eab0e848>,\n",
       "  <matplotlib.patches.Wedge at 0x140eab13288>,\n",
       "  <matplotlib.patches.Wedge at 0x140eab191c8>,\n",
       "  <matplotlib.patches.Wedge at 0x140eab19dc8>,\n",
       "  <matplotlib.patches.Wedge at 0x140eab1e3c8>,\n",
       "  <matplotlib.patches.Wedge at 0x140eab1e4c8>,\n",
       "  <matplotlib.patches.Wedge at 0x140eab13388>,\n",
       "  <matplotlib.patches.Wedge at 0x140eab24a08>,\n",
       "  <matplotlib.patches.Wedge at 0x140eaff5708>,\n",
       "  <matplotlib.patches.Wedge at 0x140eab31748>,\n",
       "  <matplotlib.patches.Wedge at 0x140eab381c8>,\n",
       "  <matplotlib.patches.Wedge at 0x140eab382c8>,\n",
       "  <matplotlib.patches.Wedge at 0x140eab3d688>,\n",
       "  <matplotlib.patches.Wedge at 0x140eab45108>],\n",
       " [Text(1.0687995480222428, 0.2601298255630247, 'Travel'),\n",
       "  Text(0.867181062468973, 0.6767547597876084, 'Social Networking and Messaging'),\n",
       "  Text(0.5357693520312355, 0.9607034929800299, 'News'),\n",
       "  Text(0.06622785562003652, 1.098004495045431, 'Streaming Services'),\n",
       "  Text(-0.4345189309282267, 1.0105410920219875, 'Sports'),\n",
       "  Text(-0.823236624186235, 0.729576219869077, 'Photography'),\n",
       "  Text(-1.040566625943455, 0.35668066526327735, 'Law and Government'),\n",
       "  Text(-1.0971973259042975, -0.07847310385386072, 'Health and Fitness'),\n",
       "  Text(-0.9630847698663981, -0.531476928992583, 'Games'),\n",
       "  Text(-0.6393947352045037, -0.8950834444859108, 'E-Commerce'),\n",
       "  Text(-0.38441059646246356, -1.030644697908728, 'Forums'),\n",
       "  Text(-0.12734105388401498, -1.0926043455870513, 'Food'),\n",
       "  Text(0.3705788144891694, -1.0356984803753464, 'Education'),\n",
       "  Text(0.7932790634425405, -0.7620422084791142, 'Computers and Technology'),\n",
       "  Text(1.0460103580187186, -0.34038556214615273, 'Business/Corporate'),\n",
       "  Text(1.0992991063429511, -0.03926161985437303, 'Adult')])"
      ]
     },
     "execution_count": 11,
     "metadata": {},
     "output_type": "execute_result"
    },
    {
     "data": {
      "image/png": "[encoded data removed]",
      "text/plain": [
       "<Figure size 1728x720 with 1 Axes>"
      ]
     },
     "metadata": {},
     "output_type": "display_data"
    }
   ],
   "source": [
    "plt.pie(values,labels=key)"
   ]
  },
  {
   "cell_type": "markdown",
   "metadata": {},
   "source": [
    "#### Data Pre-Processing and Exploratory Data Analysis"
   ]
  },
  {
   "cell_type": "code",
   "execution_count": 12,
   "metadata": {},
   "outputs": [],
   "source": [
    "data.drop('website_url',axis=1,inplace=True)"
   ]
  },
  {
   "cell_type": "code",
   "execution_count": 13,
   "metadata": {},
   "outputs": [
    {
     "data": {
      "text/html": [
       "<div>\n",
       "<style scoped>\n",
       "    .dataframe tbody tr th:only-of-type {\n",
       "        vertical-align: middle;\n",
       "    }\n",
       "\n",
       "    .dataframe tbody tr th {\n",
       "        vertical-align: top;\n",
       "    }\n",
       "\n",
       "    .dataframe thead th {\n",
       "        text-align: right;\n",
       "    }\n",
       "</style>\n",
       "<table border=\"1\" class=\"dataframe\">\n",
       "  <thead>\n",
       "    <tr style=\"text-align: right;\">\n",
       "      <th></th>\n",
       "      <th>cleaned_website_text</th>\n",
       "      <th>Category</th>\n",
       "    </tr>\n",
       "  </thead>\n",
       "  <tbody>\n",
       "    <tr>\n",
       "      <th>0</th>\n",
       "      <td>official site good hotel accommodation big sav...</td>\n",
       "      <td>Travel</td>\n",
       "    </tr>\n",
       "    <tr>\n",
       "      <th>1</th>\n",
       "      <td>expedia hotel book sites like use vacation wor...</td>\n",
       "      <td>Travel</td>\n",
       "    </tr>\n",
       "    <tr>\n",
       "      <th>2</th>\n",
       "      <td>tripadvisor hotel book sites like previously d...</td>\n",
       "      <td>Travel</td>\n",
       "    </tr>\n",
       "    <tr>\n",
       "      <th>3</th>\n",
       "      <td>cheap flights search compare flights momondo f...</td>\n",
       "      <td>Travel</td>\n",
       "    </tr>\n",
       "    <tr>\n",
       "      <th>4</th>\n",
       "      <td>bot create free account create free account si...</td>\n",
       "      <td>Travel</td>\n",
       "    </tr>\n",
       "  </tbody>\n",
       "</table>\n",
       "</div>"
      ],
      "text/plain": [
       "                                cleaned_website_text Category\n",
       "0  official site good hotel accommodation big sav...   Travel\n",
       "1  expedia hotel book sites like use vacation wor...   Travel\n",
       "2  tripadvisor hotel book sites like previously d...   Travel\n",
       "3  cheap flights search compare flights momondo f...   Travel\n",
       "4  bot create free account create free account si...   Travel"
      ]
     },
     "execution_count": 13,
     "metadata": {},
     "output_type": "execute_result"
    }
   ],
   "source": [
    "data.head()"
   ]
  },
  {
   "cell_type": "markdown",
   "metadata": {},
   "source": [
    "#### Converting the text into lowercase"
   ]
  },
  {
   "cell_type": "code",
   "execution_count": 14,
   "metadata": {},
   "outputs": [],
   "source": [
    "def convert_lowercase(sent):\n",
    "    sent=sent.lower()\n",
    "    return sent"
   ]
  },
  {
   "cell_type": "code",
   "execution_count": 15,
   "metadata": {},
   "outputs": [],
   "source": [
    "data['cleaned_website_text']=data['cleaned_website_text'].apply(convert_lowercase)"
   ]
  },
  {
   "cell_type": "markdown",
   "metadata": {},
   "source": [
    "#### Removing punctuations in text column"
   ]
  },
  {
   "cell_type": "code",
   "execution_count": 16,
   "metadata": {},
   "outputs": [],
   "source": [
    "def remove_punctuation(sen):\n",
    "    for punctuations in string.punctuation:\n",
    "        sen=sen.replace(punctuations,'')\n",
    "    return sen"
   ]
  },
  {
   "cell_type": "code",
   "execution_count": 17,
   "metadata": {},
   "outputs": [],
   "source": [
    "data['cleaned_website_text']=data['cleaned_website_text'].apply(remove_punctuation)"
   ]
  },
  {
   "cell_type": "code",
   "execution_count": 18,
   "metadata": {},
   "outputs": [
    {
     "name": "stderr",
     "output_type": "stream",
     "text": [
      "[nltk_data] Downloading package stopwords to\n",
      "[nltk_data]     C:\\Users\\Omprakash\\AppData\\Roaming\\nltk_data...\n",
      "[nltk_data]   Package stopwords is already up-to-date!\n"
     ]
    }
   ],
   "source": [
    "import nltk\n",
    "nltk.download('stopwords')\n",
    "from nltk.corpus import stopwords\n",
    "stop = stopwords.words('english')"
   ]
  },
  {
   "cell_type": "code",
   "execution_count": 19,
   "metadata": {},
   "outputs": [],
   "source": [
    "data['cleaned_website_text'] = data['cleaned_website_text'].apply(lambda x: ' '.join([word for word in x.split() if word not in (stop)]))"
   ]
  },
  {
   "cell_type": "code",
   "execution_count": 23,
   "metadata": {},
   "outputs": [],
   "source": [
    "lemma = WordNetLemmatizer()\n",
    "def lemmatization(text):\n",
    "\n",
    "    # word tokenization\n",
    "    tokens = word_tokenize(text)\n",
    "\n",
    "    for index in range(len(tokens)):\n",
    "        # lemma word\n",
    "        lemma_word = lemma.lemmatize(tokens[index])\n",
    "        tokens[index] = lemma_word\n",
    "\n",
    "    return ' '.join(tokens)"
   ]
  },
  {
   "cell_type": "code",
   "execution_count": 24,
   "metadata": {},
   "outputs": [],
   "source": [
    "data['cleaned_website_text']=data['cleaned_website_text'].apply(lemmatization)"
   ]
  },
  {
   "cell_type": "code",
   "execution_count": 25,
   "metadata": {},
   "outputs": [],
   "source": [
    "from nltk import tokenize\n",
    "\n",
    "token_space = tokenize.WhitespaceTokenizer()\n",
    "\n",
    "def counter(text, column_text, quantity):\n",
    "    all_words = ' '.join([text for text in text[column_text]])\n",
    "    token_phrase = token_space.tokenize(all_words)\n",
    "    frequency = nltk.FreqDist(token_phrase)\n",
    "    df_frequency = pd.DataFrame({\"Word\": list(frequency.keys()),\n",
    "                                   \"Frequency\": list(frequency.values())})\n",
    "    df_frequency = df_frequency.nlargest(columns = \"Frequency\", n = quantity)\n",
    "    plt.figure(figsize=(12,8))\n",
    "    ax = sns.barplot(data = df_frequency, x = \"Word\", y = \"Frequency\", color = 'violet')\n",
    "    ax.set(ylabel = \"Count\")\n",
    "    plt.xticks(rotation='vertical')\n",
    "    plt.show()"
   ]
  },
  {
   "cell_type": "code",
   "execution_count": 26,
   "metadata": {},
   "outputs": [
    {
     "data": {
      "image/png": "[encoded data removed]",
      "text/plain": [
       "<Figure size 864x576 with 1 Axes>"
      ]
     },
     "metadata": {},
     "output_type": "display_data"
    }
   ],
   "source": [
    "counter(data[data[\"Category\"] == \"Travel\"], \"cleaned_website_text\", 25)"
   ]
  },
  {
   "cell_type": "code",
   "execution_count": 27,
   "metadata": {},
   "outputs": [
    {
     "data": {
      "image/png": "[encoded data removed]",
      "text/plain": [
       "<Figure size 864x576 with 1 Axes>"
      ]
     },
     "metadata": {},
     "output_type": "display_data"
    }
   ],
   "source": [
    "counter(data[data[\"Category\"] == \"Adult\"], \"cleaned_website_text\", 25)"
   ]
  },
  {
   "cell_type": "code",
   "execution_count": 28,
   "metadata": {},
   "outputs": [
    {
     "data": {
      "image/png": "[encoded data removed]",
      "text/plain": [
       "<Figure size 864x576 with 1 Axes>"
      ]
     },
     "metadata": {},
     "output_type": "display_data"
    }
   ],
   "source": [
    "counter(data[data[\"Category\"] == \"E-Commerce\"], \"cleaned_website_text\", 25)"
   ]
  },
  {
   "cell_type": "code",
   "execution_count": 29,
   "metadata": {},
   "outputs": [
    {
     "data": {
      "image/png": "[encoded data removed]",
      "text/plain": [
       "<Figure size 864x576 with 1 Axes>"
      ]
     },
     "metadata": {},
     "output_type": "display_data"
    }
   ],
   "source": [
    "counter(data[data[\"Category\"] == \"Food\"], \"cleaned_website_text\", 25)"
   ]
  },
  {
   "cell_type": "markdown",
   "metadata": {},
   "source": [
    "#### Label Encoding"
   ]
  },
  {
   "cell_type": "code",
   "execution_count": 30,
   "metadata": {},
   "outputs": [],
   "source": [
    "label={'Travel': 1, 'Social Networking and Messaging': 2, 'News': 3, 'Streaming Services': 4, 'Sports': 5, 'Photography': 6, 'Law and Government': 7, 'Health and Fitness': 8, 'Games': 9, 'E-Commerce': 10, 'Forums': 11, 'Food': 12, 'Education': 13, 'Computers and Technology': 14, 'Business/Corporate': 15, 'Adult': 16}"
   ]
  },
  {
   "cell_type": "code",
   "execution_count": 31,
   "metadata": {},
   "outputs": [],
   "source": [
    "def labelencode(x):\n",
    "    return label[x]"
   ]
  },
  {
   "cell_type": "code",
   "execution_count": 32,
   "metadata": {},
   "outputs": [],
   "source": [
    "data['Category']=data['Category'].apply(labelencode)"
   ]
  },
  {
   "cell_type": "code",
   "execution_count": 33,
   "metadata": {},
   "outputs": [
    {
     "data": {
      "text/html": [
       "<div>\n",
       "<style scoped>\n",
       "    .dataframe tbody tr th:only-of-type {\n",
       "        vertical-align: middle;\n",
       "    }\n",
       "\n",
       "    .dataframe tbody tr th {\n",
       "        vertical-align: top;\n",
       "    }\n",
       "\n",
       "    .dataframe thead th {\n",
       "        text-align: right;\n",
       "    }\n",
       "</style>\n",
       "<table border=\"1\" class=\"dataframe\">\n",
       "  <thead>\n",
       "    <tr style=\"text-align: right;\">\n",
       "      <th></th>\n",
       "      <th>cleaned_website_text</th>\n",
       "      <th>Category</th>\n",
       "    </tr>\n",
       "  </thead>\n",
       "  <tbody>\n",
       "    <tr>\n",
       "      <th>0</th>\n",
       "      <td>official site good hotel accommodation big sav...</td>\n",
       "      <td>1</td>\n",
       "    </tr>\n",
       "    <tr>\n",
       "      <th>1</th>\n",
       "      <td>expedia hotel book site like use vacation work...</td>\n",
       "      <td>1</td>\n",
       "    </tr>\n",
       "    <tr>\n",
       "      <th>2</th>\n",
       "      <td>tripadvisor hotel book site like previously de...</td>\n",
       "      <td>1</td>\n",
       "    </tr>\n",
       "    <tr>\n",
       "      <th>3</th>\n",
       "      <td>cheap flight search compare flight momondo fin...</td>\n",
       "      <td>1</td>\n",
       "    </tr>\n",
       "    <tr>\n",
       "      <th>4</th>\n",
       "      <td>bot create free account create free account si...</td>\n",
       "      <td>1</td>\n",
       "    </tr>\n",
       "    <tr>\n",
       "      <th>5</th>\n",
       "      <td>hotel reservation bundle save book flight sale...</td>\n",
       "      <td>1</td>\n",
       "    </tr>\n",
       "    <tr>\n",
       "      <th>6</th>\n",
       "      <td>official travel deal promotion choose million ...</td>\n",
       "      <td>1</td>\n",
       "    </tr>\n",
       "    <tr>\n",
       "      <th>7</th>\n",
       "      <td>bot create free account create free account si...</td>\n",
       "      <td>1</td>\n",
       "    </tr>\n",
       "    <tr>\n",
       "      <th>8</th>\n",
       "      <td>bot create free account create free account si...</td>\n",
       "      <td>1</td>\n",
       "    </tr>\n",
       "    <tr>\n",
       "      <th>9</th>\n",
       "      <td>cheap hotel car flight minute travel deal hotw...</td>\n",
       "      <td>1</td>\n",
       "    </tr>\n",
       "  </tbody>\n",
       "</table>\n",
       "</div>"
      ],
      "text/plain": [
       "                                cleaned_website_text  Category\n",
       "0  official site good hotel accommodation big sav...         1\n",
       "1  expedia hotel book site like use vacation work...         1\n",
       "2  tripadvisor hotel book site like previously de...         1\n",
       "3  cheap flight search compare flight momondo fin...         1\n",
       "4  bot create free account create free account si...         1\n",
       "5  hotel reservation bundle save book flight sale...         1\n",
       "6  official travel deal promotion choose million ...         1\n",
       "7  bot create free account create free account si...         1\n",
       "8  bot create free account create free account si...         1\n",
       "9  cheap hotel car flight minute travel deal hotw...         1"
      ]
     },
     "execution_count": 33,
     "metadata": {},
     "output_type": "execute_result"
    }
   ],
   "source": [
    "data.head(10)"
   ]
  },
  {
   "cell_type": "markdown",
   "metadata": {},
   "source": [
    "#### Train Test Split"
   ]
  },
  {
   "cell_type": "code",
   "execution_count": 34,
   "metadata": {},
   "outputs": [],
   "source": [
    "x=data['cleaned_website_text']\n",
    "y=data['Category']"
   ]
  },
  {
   "cell_type": "code",
   "execution_count": 37,
   "metadata": {},
   "outputs": [],
   "source": [
    "x_train,x_test,y_train,y_test=train_test_split(x,y,test_size=0.3,random_state=101)"
   ]
  },
  {
   "cell_type": "markdown",
   "metadata": {},
   "source": [
    "#### Tfidf-Vector"
   ]
  },
  {
   "cell_type": "code",
   "execution_count": 38,
   "metadata": {},
   "outputs": [],
   "source": [
    "tfidf_vectorizer=TfidfVectorizer(stop_words='english', max_df=0.7)\n",
    "tfidf_train=tfidf_vectorizer.fit_transform(x_train) \n",
    "tfidf_test=tfidf_vectorizer.transform(x_test)"
   ]
  },
  {
   "cell_type": "code",
   "execution_count": 39,
   "metadata": {},
   "outputs": [
    {
     "data": {
      "text/plain": [
       "((985, 44882), (423, 44882))"
      ]
     },
     "execution_count": 39,
     "metadata": {},
     "output_type": "execute_result"
    }
   ],
   "source": [
    "tfidf_train.shape,tfidf_test.shape"
   ]
  },
  {
   "cell_type": "markdown",
   "metadata": {},
   "source": [
    "#### Classification Models"
   ]
  },
  {
   "cell_type": "markdown",
   "metadata": {},
   "source": [
    "#### Logistic Regression"
   ]
  },
  {
   "cell_type": "code",
   "execution_count": 44,
   "metadata": {},
   "outputs": [],
   "source": [
    "lr=LogisticRegression(random_state=0)\n",
    "lr.fit(tfidf_train,y_train)\n",
    "yprediction1=lr.predict(tfidf_test)"
   ]
  },
  {
   "cell_type": "code",
   "execution_count": 47,
   "metadata": {},
   "outputs": [
    {
     "name": "stdout",
     "output_type": "stream",
     "text": [
      "Accuaracy Percentage  0.9125295508274232\n"
     ]
    }
   ],
   "source": [
    "print(\"Accuaracy Percentage \",accuracy_score(yprediction1,y_test))"
   ]
  },
  {
   "cell_type": "code",
   "execution_count": 48,
   "metadata": {},
   "outputs": [
    {
     "name": "stdout",
     "output_type": "stream",
     "text": [
      "              precision    recall  f1-score   support\n",
      "\n",
      "           1       1.00      0.97      0.98        30\n",
      "           2       0.81      1.00      0.89        21\n",
      "           3       0.90      0.93      0.92        29\n",
      "           4       0.97      0.95      0.96        40\n",
      "           5       0.96      0.96      0.96        28\n",
      "           6       0.91      0.87      0.89        23\n",
      "           7       0.90      0.96      0.93        28\n",
      "           8       0.97      0.97      0.97        34\n",
      "           9       0.97      1.00      0.98        30\n",
      "          10       0.89      0.86      0.88        29\n",
      "          11       0.00      0.00      0.00         0\n",
      "          12       0.91      1.00      0.95        20\n",
      "          13       0.97      0.93      0.95        41\n",
      "          14       0.92      0.74      0.82        31\n",
      "          15       0.90      0.71      0.79        38\n",
      "          16       0.33      1.00      0.50         1\n",
      "\n",
      "    accuracy                           0.91       423\n",
      "   macro avg       0.83      0.87      0.84       423\n",
      "weighted avg       0.93      0.91      0.92       423\n",
      "\n"
     ]
    },
    {
     "name": "stderr",
     "output_type": "stream",
     "text": [
      "C:\\Users\\Omprakash\\anaconda3\\lib\\site-packages\\sklearn\\metrics\\_classification.py:1272: UndefinedMetricWarning: Recall and F-score are ill-defined and being set to 0.0 in labels with no true samples. Use `zero_division` parameter to control this behavior.\n",
      "  _warn_prf(average, modifier, msg_start, len(result))\n"
     ]
    }
   ],
   "source": [
    "print(classification_report(yprediction1, y_test))"
   ]
  },
  {
   "cell_type": "markdown",
   "metadata": {},
   "source": [
    "#### Naive Bayes Classifier"
   ]
  },
  {
   "cell_type": "code",
   "execution_count": 49,
   "metadata": {},
   "outputs": [],
   "source": [
    "model_naive = naive_bayes.MultinomialNB()\n",
    "model_naive.fit(tfidf_train, y_train)\n",
    "yprediction2=model_naive.predict(tfidf_test)"
   ]
  },
  {
   "cell_type": "code",
   "execution_count": 50,
   "metadata": {},
   "outputs": [
    {
     "name": "stdout",
     "output_type": "stream",
     "text": [
      "Accuaracy Percentage  0.88\n"
     ]
    }
   ],
   "source": [
    "print(\"Accuaracy Percentage \",round(accuracy_score(yprediction2,y_test),2))"
   ]
  },
  {
   "cell_type": "code",
   "execution_count": 51,
   "metadata": {},
   "outputs": [
    {
     "name": "stdout",
     "output_type": "stream",
     "text": [
      "              precision    recall  f1-score   support\n",
      "\n",
      "           1       1.00      0.94      0.97        31\n",
      "           2       0.81      1.00      0.89        21\n",
      "           3       0.93      0.61      0.74        46\n",
      "           4       0.95      0.97      0.96        38\n",
      "           5       0.96      0.93      0.95        29\n",
      "           6       0.91      0.80      0.85        25\n",
      "           7       0.73      1.00      0.85        22\n",
      "           8       0.91      1.00      0.95        31\n",
      "           9       0.87      1.00      0.93        27\n",
      "          10       0.89      0.89      0.89        28\n",
      "          11       0.00      0.00      0.00         0\n",
      "          12       0.95      1.00      0.98        21\n",
      "          13       0.97      0.88      0.93        43\n",
      "          14       0.76      0.86      0.81        22\n",
      "          15       0.97      0.74      0.84        39\n",
      "          16       0.00      0.00      0.00         0\n",
      "\n",
      "    accuracy                           0.88       423\n",
      "   macro avg       0.79      0.79      0.78       423\n",
      "weighted avg       0.91      0.88      0.89       423\n",
      "\n"
     ]
    },
    {
     "name": "stderr",
     "output_type": "stream",
     "text": [
      "C:\\Users\\Omprakash\\anaconda3\\lib\\site-packages\\sklearn\\metrics\\_classification.py:1272: UndefinedMetricWarning: Recall and F-score are ill-defined and being set to 0.0 in labels with no true samples. Use `zero_division` parameter to control this behavior.\n",
      "  _warn_prf(average, modifier, msg_start, len(result))\n"
     ]
    }
   ],
   "source": [
    "print(classification_report(yprediction2, y_test))"
   ]
  },
  {
   "cell_type": "markdown",
   "metadata": {},
   "source": [
    "#### Decision Tree Classifier"
   ]
  },
  {
   "cell_type": "code",
   "execution_count": 52,
   "metadata": {},
   "outputs": [],
   "source": [
    "dt=DecisionTreeClassifier(random_state=0)\n",
    "dt.fit(tfidf_train,y_train)\n",
    "yprediction3=dt.predict(tfidf_test)"
   ]
  },
  {
   "cell_type": "code",
   "execution_count": 53,
   "metadata": {},
   "outputs": [
    {
     "name": "stdout",
     "output_type": "stream",
     "text": [
      "Accuaracy Percentage  0.68\n"
     ]
    }
   ],
   "source": [
    "print(\"Accuaracy Percentage \",round(accuracy_score(yprediction3,y_test),2))"
   ]
  },
  {
   "cell_type": "code",
   "execution_count": 54,
   "metadata": {},
   "outputs": [
    {
     "name": "stdout",
     "output_type": "stream",
     "text": [
      "              precision    recall  f1-score   support\n",
      "\n",
      "           1       0.79      0.79      0.79        29\n",
      "           2       0.81      0.64      0.71        33\n",
      "           3       0.67      0.71      0.69        28\n",
      "           4       0.79      0.76      0.77        41\n",
      "           5       0.75      0.84      0.79        25\n",
      "           6       0.73      0.89      0.80        18\n",
      "           7       0.60      0.67      0.63        27\n",
      "           8       0.71      0.83      0.76        29\n",
      "           9       0.68      0.78      0.72        27\n",
      "          10       0.79      0.79      0.79        28\n",
      "          11       0.00      0.00      0.00         2\n",
      "          12       0.77      0.81      0.79        21\n",
      "          13       0.62      0.55      0.58        44\n",
      "          14       0.64      0.50      0.56        32\n",
      "          15       0.47      0.45      0.46        31\n",
      "          16       0.33      0.12      0.18         8\n",
      "\n",
      "    accuracy                           0.68       423\n",
      "   macro avg       0.63      0.63      0.63       423\n",
      "weighted avg       0.69      0.68      0.68       423\n",
      "\n"
     ]
    }
   ],
   "source": [
    "print(classification_report(yprediction3, y_test))"
   ]
  },
  {
   "cell_type": "markdown",
   "metadata": {},
   "source": [
    "#### Random Forest Classifier"
   ]
  },
  {
   "cell_type": "code",
   "execution_count": 55,
   "metadata": {},
   "outputs": [],
   "source": [
    "rf=RandomForestClassifier(n_estimators=50)\n",
    "rf.fit(tfidf_train,y_train)\n",
    "yprediction4=rf.predict(tfidf_test)"
   ]
  },
  {
   "cell_type": "code",
   "execution_count": 56,
   "metadata": {},
   "outputs": [
    {
     "name": "stdout",
     "output_type": "stream",
     "text": [
      "Accuaracy Percentage  0.84\n"
     ]
    }
   ],
   "source": [
    "print(\"Accuaracy Percentage \",round(accuracy_score(yprediction4,y_test),2))"
   ]
  },
  {
   "cell_type": "code",
   "execution_count": 57,
   "metadata": {},
   "outputs": [
    {
     "name": "stdout",
     "output_type": "stream",
     "text": [
      "              precision    recall  f1-score   support\n",
      "\n",
      "           1       0.90      0.90      0.90        29\n",
      "           2       0.81      0.78      0.79        27\n",
      "           3       0.87      0.93      0.90        28\n",
      "           4       0.97      0.73      0.84        52\n",
      "           5       0.93      0.90      0.91        29\n",
      "           6       0.82      0.82      0.82        22\n",
      "           7       0.90      0.93      0.92        29\n",
      "           8       0.85      0.85      0.85        34\n",
      "           9       0.81      1.00      0.89        25\n",
      "          10       0.96      0.79      0.87        34\n",
      "          11       0.00      0.00      0.00         0\n",
      "          12       0.82      0.95      0.88        19\n",
      "          13       0.77      0.79      0.78        38\n",
      "          14       0.84      0.81      0.82        26\n",
      "          15       0.80      0.80      0.80        30\n",
      "          16       0.33      1.00      0.50         1\n",
      "\n",
      "    accuracy                           0.84       423\n",
      "   macro avg       0.77      0.81      0.78       423\n",
      "weighted avg       0.87      0.84      0.85       423\n",
      "\n"
     ]
    },
    {
     "name": "stderr",
     "output_type": "stream",
     "text": [
      "C:\\Users\\Omprakash\\anaconda3\\lib\\site-packages\\sklearn\\metrics\\_classification.py:1272: UndefinedMetricWarning: Recall and F-score are ill-defined and being set to 0.0 in labels with no true samples. Use `zero_division` parameter to control this behavior.\n",
      "  _warn_prf(average, modifier, msg_start, len(result))\n"
     ]
    }
   ],
   "source": [
    "print(classification_report(yprediction4, y_test))"
   ]
  },
  {
   "cell_type": "markdown",
   "metadata": {},
   "source": [
    "#### SVM Classifier"
   ]
  },
  {
   "cell_type": "code",
   "execution_count": 58,
   "metadata": {},
   "outputs": [],
   "source": [
    "svm=LinearSVC()\n",
    "svm.fit(tfidf_train,y_train)\n",
    "yprediction5=svm.predict(tfidf_test)"
   ]
  },
  {
   "cell_type": "code",
   "execution_count": 80,
   "metadata": {},
   "outputs": [
    {
     "name": "stdout",
     "output_type": "stream",
     "text": [
      "Accuaracy Percentage  0.939\n"
     ]
    }
   ],
   "source": [
    "print(\"Accuaracy Percentage \",round(accuracy_score(yprediction5,y_test),3))"
   ]
  },
  {
   "cell_type": "code",
   "execution_count": 75,
   "metadata": {},
   "outputs": [
    {
     "name": "stdout",
     "output_type": "stream",
     "text": [
      "              precision    recall  f1-score   support\n",
      "\n",
      "           1       1.00      1.00      1.00        29\n",
      "           2       0.88      0.92      0.90        25\n",
      "           3       0.90      0.93      0.92        29\n",
      "           4       1.00      0.95      0.97        41\n",
      "           5       0.93      0.93      0.93        28\n",
      "           6       0.91      0.83      0.87        24\n",
      "           7       1.00      0.94      0.97        32\n",
      "           8       0.97      0.97      0.97        34\n",
      "           9       0.97      1.00      0.98        30\n",
      "          10       0.89      0.96      0.93        26\n",
      "          11       0.14      1.00      0.25         1\n",
      "          12       1.00      0.96      0.98        23\n",
      "          13       0.97      1.00      0.99        38\n",
      "          14       0.96      0.80      0.87        30\n",
      "          15       0.90      0.90      0.90        30\n",
      "          16       1.00      1.00      1.00         3\n",
      "\n",
      "    accuracy                           0.94       423\n",
      "   macro avg       0.90      0.94      0.90       423\n",
      "weighted avg       0.95      0.94      0.94       423\n",
      "\n"
     ]
    }
   ],
   "source": [
    "print(classification_report(yprediction5, y_test))"
   ]
  },
  {
   "cell_type": "markdown",
   "metadata": {},
   "source": [
    "#### Passive Agressive Classifier"
   ]
  },
  {
   "cell_type": "code",
   "execution_count": 76,
   "metadata": {},
   "outputs": [],
   "source": [
    "pac=PassiveAggressiveClassifier(max_iter=50)\n",
    "pac.fit(tfidf_train,y_train)\n",
    "yprediction6=pac.predict(tfidf_test)"
   ]
  },
  {
   "cell_type": "code",
   "execution_count": 79,
   "metadata": {},
   "outputs": [
    {
     "name": "stdout",
     "output_type": "stream",
     "text": [
      "Accuaracy Percentage  0.936\n"
     ]
    }
   ],
   "source": [
    "print(\"Accuaracy Percentage \",round(accuracy_score(yprediction6,y_test),3))"
   ]
  },
  {
   "cell_type": "code",
   "execution_count": 65,
   "metadata": {},
   "outputs": [
    {
     "name": "stdout",
     "output_type": "stream",
     "text": [
      "              precision    recall  f1-score   support\n",
      "\n",
      "           1       0.97      1.00      0.98        28\n",
      "           2       0.92      0.92      0.92        26\n",
      "           3       0.90      0.93      0.92        29\n",
      "           4       0.97      0.95      0.96        40\n",
      "           5       0.93      0.96      0.95        27\n",
      "           6       0.91      0.91      0.91        22\n",
      "           7       1.00      0.94      0.97        32\n",
      "           8       0.97      0.97      0.97        34\n",
      "           9       0.97      1.00      0.98        30\n",
      "          10       0.89      0.96      0.93        26\n",
      "          11       0.14      0.50      0.22         2\n",
      "          12       1.00      0.92      0.96        24\n",
      "          13       0.97      1.00      0.99        38\n",
      "          14       0.96      0.80      0.87        30\n",
      "          15       0.90      0.84      0.87        32\n",
      "          16       1.00      1.00      1.00         3\n",
      "\n",
      "    accuracy                           0.94       423\n",
      "   macro avg       0.90      0.91      0.90       423\n",
      "weighted avg       0.95      0.94      0.94       423\n",
      "\n"
     ]
    }
   ],
   "source": [
    "print(classification_report(yprediction6, y_test))"
   ]
  },
  {
   "cell_type": "markdown",
   "metadata": {},
   "source": [
    "#### Ada Boost Classifier"
   ]
  },
  {
   "cell_type": "code",
   "execution_count": 69,
   "metadata": {},
   "outputs": [],
   "source": [
    "gbc=GradientBoostingClassifier(n_estimators=100, learning_rate=1.0,max_depth=1, random_state=0)\n",
    "gbc.fit(tfidf_train,y_train)\n",
    "yprediction8=gbc.predict(tfidf_test)"
   ]
  },
  {
   "cell_type": "code",
   "execution_count": 71,
   "metadata": {},
   "outputs": [
    {
     "name": "stdout",
     "output_type": "stream",
     "text": [
      "Accuaracy Percentage  0.69\n"
     ]
    }
   ],
   "source": [
    "print(\"Accuaracy Percentage \",round(accuracy_score(yprediction8,y_test),2))"
   ]
  },
  {
   "cell_type": "markdown",
   "metadata": {},
   "source": [
    "#### Pickling Tfidf and SVM Model"
   ]
  },
  {
   "cell_type": "code",
   "execution_count": 82,
   "metadata": {},
   "outputs": [],
   "source": [
    "Pkl_filename = \"tfidf.pkl\"  \n",
    "pickle.dump(tfidf_vectorizer, open(Pkl_filename, 'wb'))"
   ]
  },
  {
   "cell_type": "code",
   "execution_count": 83,
   "metadata": {},
   "outputs": [],
   "source": [
    "Pkl_Filename = \"webc.pkl\"  \n",
    "pickle.dump(svm, open(Pkl_Filename, 'wb'))"
   ]
  },
  {
   "cell_type": "code",
   "execution_count": null,
   "metadata": {},
   "outputs": [],
   "source": []
  }
 ],
 "metadata": {
  "kernelspec": {
   "display_name": "Python 3",
   "language": "python",
   "name": "python3"
  },
  "language_info": {
   "codemirror_mode": {
    "name": "ipython",
    "version": 3
   },
   "file_extension": ".py",
   "mimetype": "text/x-python",
   "name": "python",
   "nbconvert_exporter": "python",
   "pygments_lexer": "ipython3",
   "version": "3.7.6"
  }
 },
 "nbformat": 4,
 "nbformat_minor": 4
}
